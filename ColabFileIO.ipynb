{
  "nbformat": 4,
  "nbformat_minor": 0,
  "metadata": {
    "colab": {
      "name": "ColabFileIO",
      "provenance": [],
      "collapsed_sections": [],
      "authorship_tag": "ABX9TyN/uvLDK7/Vbd+5aPySWE8a",
      "include_colab_link": true
    },
    "kernelspec": {
      "name": "python3",
      "display_name": "Python 3"
    }
  },
  "cells": [
    {
      "cell_type": "markdown",
      "metadata": {
        "id": "view-in-github",
        "colab_type": "text"
      },
      "source": [
        "<a href=\"https://colab.research.google.com/github/sukritganesh/PythonProwess/blob/master/ColabFileIO.ipynb\" target=\"_parent\"><img src=\"https://colab.research.google.com/assets/colab-badge.svg\" alt=\"Open In Colab\"/></a>"
      ]
    },
    {
      "cell_type": "markdown",
      "metadata": {
        "id": "urTt6NXoLqX8",
        "colab_type": "text"
      },
      "source": [
        "The folloing file contains a series of methods intended to help coders access files from Jupyter Notebook.\n",
        "\n",
        "Created by Sukrit Ganesh. Feel free to use any methods or replicate any code as you please."
      ]
    },
    {
      "cell_type": "code",
      "metadata": {
        "id": "OMnaQD4gOdOI",
        "colab_type": "code",
        "colab": {}
      },
      "source": [
        "# Method 1: Retrieve the contents of a google drive file \n",
        "\n",
        "# Input: viewing share link for file\n",
        "# Contents of file will be returned: \n",
        "# DataFrame for excel or csv\n",
        "# List of lines for txt\n",
        "# python-docx Document() for docx\n",
        "\n",
        "def readFileLink(file_link, file_type='txt'):\n",
        "  # Default import statements\n",
        "  from pydrive.auth import GoogleAuth\n",
        "  from pydrive.drive import GoogleDrive\n",
        "  from google.colab import auth\n",
        "  from oauth2client.client import GoogleCredentials\n",
        "\n",
        "  # Authenticate user\n",
        "  auth.authenticate_user()\n",
        "  gauth = GoogleAuth()\n",
        "  gauth.credentials = GoogleCredentials.get_application_default()\n",
        "  drv = GoogleDrive(gauth)\n",
        "\n",
        "  # Import Pandas\n",
        "  import pandas as pd\n",
        "  \n",
        "  file_id = file_link.split('/d/')[1].split('/view')[0]\n",
        "  downloaded = drv.CreateFile({'id': file_id})\n",
        "  downloaded.GetContentFile('of')\n",
        "\n",
        "  if (file_type.lower() in {'txt', '.txt', 'text'}):\n",
        "    with open('of', 'r') as f:\n",
        "      return f.readlines()\n",
        "\n",
        "  elif (file_type.lower() in {'csv', '.csv'}):\n",
        "    return pd.read_csv('of')\n",
        "\n",
        "  elif (file_type.lower() in {'xlsx', '.xlsx', 'excel'}):\n",
        "    return pd.read_excel('of')\n",
        "\n",
        "# Method 2: Retrieve the contents of a google drive file \n",
        "\n",
        "# Input: file path for file\n",
        "# Contents of file will be returned: \n",
        "# DataFrame for excel or csv\n",
        "# List of lines for txt\n",
        "# python-docx Document() for docx\n",
        "\n",
        "# File Path Format: \n",
        "# 'My Drive/Stories/hello.txt'\n",
        "# 'My Drive/Semester 1/Homework/financialAnalysis.xlsx'\n",
        "# 'Shared with me/Science Project/Display Board/magnetData.csv'\n",
        "\n",
        "def readFilePath(file_path):\n",
        "  # Default import statements\n",
        "  from pydrive.auth import GoogleAuth\n",
        "  from pydrive.drive import GoogleDrive\n",
        "  from google.colab import auth\n",
        "  from oauth2client.client import GoogleCredentials\n",
        "\n",
        "  # Authenticate user\n",
        "  auth.authenticate_user()\n",
        "  gauth = GoogleAuth()\n",
        "  gauth.credentials = GoogleCredentials.get_application_default()\n",
        "  drv = GoogleDrive(gauth)\n",
        "\n",
        "  # Import pandas\n",
        "  import pandas as pd\n",
        "\n",
        "  # Access google drive directly\n",
        "  from google.colab import drive\n",
        "\n",
        "  # Mount drive\n",
        "  drive.mount('/gdrive')  # main directory (equivalant to C: in windows)\n",
        "\n",
        "  file_path = '/gdrive/' + file_path\n",
        "\n",
        "  if (file_path[-4:] == '.txt'):\n",
        "    with open(file_path, 'r') as f:\n",
        "      return f.readlines()\n",
        "\n",
        "  elif (file_path[-4:] == '.csv'):\n",
        "    return pd.read_csv(file_path)\n",
        "\n",
        "  elif (file_path[-5:] == '.xlsx'):\n",
        "    return pd.read_excel(file_path)\n",
        "\n",
        "# Method 3: Write a file to google drive\n",
        "\n",
        "# Input: file path for file, optional argument for text file write ('w'), read ('r'), append ('a')\n",
        "# content must be pandas dataframe for write to csv or excel\n",
        "# content must be sequence of string for write to text file\n",
        "\n",
        "# File Path Format: \n",
        "# 'My Drive/Stories/hello.txt'\n",
        "# 'My Drive/Semester 1/Homework/financialAnalysis.xlsx'\n",
        "# 'Shared with me/Science Project/Display Board/magnetData.csv'\n",
        "\n",
        "def writeFilePath(file_path, content, accessLevel='w'):\n",
        "  # Default import statements\n",
        "  from pydrive.auth import GoogleAuth\n",
        "  from pydrive.drive import GoogleDrive\n",
        "  from google.colab import auth\n",
        "  from oauth2client.client import GoogleCredentials\n",
        "\n",
        "  # Authenticate user\n",
        "  auth.authenticate_user()\n",
        "  gauth = GoogleAuth()\n",
        "  gauth.credentials = GoogleCredentials.get_application_default()\n",
        "  drv = GoogleDrive(gauth)\n",
        "\n",
        "  # Import pandas\n",
        "  import pandas as pd\n",
        "\n",
        "  # Access google drive directly\n",
        "  from google.colab import drive\n",
        "\n",
        "  # Mount drive\n",
        "  drive.mount('/gdrive')  # main directory (equivalant to C: in windows)\n",
        "\n",
        "  file_path = '/gdrive/' + file_path\n",
        "\n",
        "  if (file_path[-4:] == '.txt'):\n",
        "    with open(file_path, accessLevel.upper()) as f:\n",
        "      return f.writelines(content)\n",
        "\n",
        "  elif (file_path[-4:] == '.csv'):\n",
        "    return content.to_csv(file_path)\n",
        "\n",
        "  elif (file_path[-5:] == '.xlsx'):\n",
        "    return content.to_excel(file_path)\n"
      ],
      "execution_count": null,
      "outputs": []
    },
    {
      "cell_type": "markdown",
      "metadata": {
        "id": "SOqJAQS2MBij",
        "colab_type": "text"
      },
      "source": [
        "Below is a example of how you should use the above functions. Make sure you have permission to access the files, or else the functions will not work!"
      ]
    },
    {
      "cell_type": "code",
      "metadata": {
        "id": "JoRKcNdHyX2r",
        "colab_type": "code",
        "colab": {
          "base_uri": "https://localhost:8080/",
          "height": 263
        },
        "outputId": "8db6b5b3-1c0d-4e5f-8fb8-07625e0d23c9"
      },
      "source": [
        "file_link = 'https://drive.google.com/file/d/1PFte1hqL2KS029wILitD9kznrYRXgvV-/view?usp=sharing'\n",
        "print(readFileLink(file_link, 'csv'))\n",
        "\n",
        "# file_path = 'My Drive/Copy of residenceData.xlsx'\n",
        "# print(readFilePath(file_path))"
      ],
      "execution_count": null,
      "outputs": [
        {
          "output_type": "stream",
          "text": [
            "                  FullStreetName  ... PostDirection\n",
            "0                        01ST ST  ...           NaN\n",
            "1                     01ST TI ST  ...           NaN\n",
            "2                       02ND AVE  ...           NaN\n",
            "3                        02ND ST  ...           NaN\n",
            "4                     02ND TI ST  ...           NaN\n",
            "...                          ...  ...           ...\n",
            "2664             SAM JORDANS WAY  ...           NaN\n",
            "2665  SAN FRANCISCO GOLF CLUB RD  ...           NaN\n",
            "2666             JEFF ADACHI WAY  ...           NaN\n",
            "2667            LONG BRIDGE VARA  ...           NaN\n",
            "2668                  STEUART LN  ...           NaN\n",
            "\n",
            "[2669 rows x 4 columns]\n"
          ],
          "name": "stdout"
        }
      ]
    },
    {
      "cell_type": "code",
      "metadata": {
        "id": "rWeZ4aWzuQb1",
        "colab_type": "code",
        "colab": {}
      },
      "source": [
        "# Helper Methods (Not Used)\n",
        "\n",
        "def importAll():\n",
        "  # Default import statements\n",
        "  from pydrive.auth import GoogleAuth\n",
        "  from pydrive.drive import GoogleDrive\n",
        "  from google.colab import auth\n",
        "  from oauth2client.client import GoogleCredentials\n",
        "\n",
        "  # Import pandas for a better interface\n",
        "  import pandas as pd\n",
        "\n",
        "  # Access google drive directly\n",
        "  from google.colab import drive\n",
        "\n",
        "  # access files\n",
        "  from google.colab import files\n",
        "\n",
        "# Mount drive\n",
        "def mountDrive(baseIndex = 'gdrive'):\n",
        "  drive.mount('/' + baseIndex)  # main directory (equivalant to C: in windows)\n"
      ],
      "execution_count": null,
      "outputs": []
    }
  ]
}